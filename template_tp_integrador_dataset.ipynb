{
 "cells": [
  {
   "cell_type": "markdown",
   "id": "27719223",
   "metadata": {},
   "source": [
    "\n",
    "# Trabajo Práctico 2"
   ]
  },
  {
   "cell_type": "markdown",
   "id": "461d011d",
   "metadata": {},
   "source": [
    "Dentro de la carpeta de `data/` vamos a poder encontrar 3 datasets:\n",
    "\n",
    "- Pokemon (Problema de clasificacion Binaria): La intención es tratar de predecir si basada en la información que tenemos podemos estimar si la carta que estamos viendo es Legendaria o no (Booleano).\n",
    "- Heart Disease (Problema de clasificacion Binaria): A partir de este dataset vamos a tratar de determinar si una persona basado en ciertos datos tiene asociado una enfermedad cardiaca.\n",
    "- Challenger USA Space Shuttle O-Ring Data Set (Regresion multivariada): En este dataset encontramos información sobre varios despegues del space shuttle, la intención de este problema es tratar de predecir cuanto será la cantidad de O-Rings que fallan dadas las condiciones de despegue.\n",
    "\n",
    "> Para la presentación de sus trabajos prácticos **Elijan 1 de los 3 datasets**"
   ]
  },
  {
   "cell_type": "markdown",
   "id": "5a976dd3",
   "metadata": {},
   "source": [
    "# Importar librerías\n",
    "\n",
    "Importar aquellas librerías que serán utilizadas en el trabajo."
   ]
  },
  {
   "cell_type": "code",
   "execution_count": 2,
   "id": "845b6c50",
   "metadata": {},
   "outputs": [],
   "source": [
    "import numpy as np\n",
    "import pandas as pd"
   ]
  },
  {
   "cell_type": "markdown",
   "id": "954111ce",
   "metadata": {},
   "source": [
    "# Cargar datos\n",
    "\n",
    "Cargar los datos de entrenamiento.\n",
    "\n",
    "Recordemos que para todos los datasets tenemos el archivo `columns.csv` que contiene el nombre y descripción de cada columna en el mismo orden que van a encontrar los datos.\n",
    "\n",
    "En los casos de datos con extensión  `*.data` vamos a tener que leerlo utilizando `pd.read_data('myfile.data', sep = ',', header = 0, names = my_cols)`\n",
    "\n",
    "De esta manera si quisieramos cargar datos por ejemplo de Nasa deberiamos poner algo asi\n",
    "\n",
    "\n",
    "```python\n",
    "## Importing python earlier\n",
    "\n",
    "my_cols = pd.read_csv('./data/nasa_orings/columns.csv').column.values.tolist()\n",
    "\n",
    "my_data = pd.read_csv('./data/nasa_orings/o-ring-erosion-or-blowby.data',\n",
    "                       delimiter=',',\n",
    "                       header=0,\n",
    "                       names = my_cols\n",
    "                    )\n",
    "```"
   ]
  },
  {
   "cell_type": "code",
   "execution_count": 3,
   "id": "26f41c45",
   "metadata": {},
   "outputs": [],
   "source": [
    "my_cols = pd.read_csv('./data/nasa_orings/columns.csv').column.values.tolist()\n",
    "\n",
    "my_data = pd.read_csv('./data/nasa_orings/o-ring-erosion-or-blowby.data'\n",
    "                      ,delimiter=','\n",
    "                      ,header=0\n",
    "                      ,names=my_cols)"
   ]
  },
  {
   "cell_type": "markdown",
   "id": "c93000bd",
   "metadata": {},
   "source": [
    "# Análisis exploratorio básico y preprocesamiento de los datos\n",
    "\n",
    "Análisis de los datos para conocer los mismos, ver datos faltantes, decidir cómo tratarlos, ver distribuciones, relaciones, etc. Procesar los datos centrándolos, reescalando, codificando, reduciendo dimensiones, etc. según considere necesario.\n",
    "\n",
    "Vamos a considerar:\n",
    "\n",
    "- Para escalar datos: `sklearn.preprocessing.StandardScaler()`\n",
    "- Para completar valores nulos: `sklearn.impute.SimpleImputer()` [Quickguide](https://scikit-learn.org/stable/modules/impute.html)\n",
    "- Para reduccion de dimensiones (sobre todo para visualizar los datos): PCA o [T-SNE](https://builtin.com/data-science/tsne-python) (Solo para visualización)\n",
    "- Para codificar variables categóricas: `sklearn.preprocessing.OneHotEncoder()`"
   ]
  },
  {
   "cell_type": "code",
   "execution_count": 4,
   "id": "b66211cd",
   "metadata": {},
   "outputs": [],
   "source": [
    "from sklearn.preprocessing import StandardScaler\n",
    "from sklearn.impute import SimpleImputer\n",
    "from sklearn.decomposition import PCA\n",
    "from sklearn.preprocessing import OneHotEncoder"
   ]
  },
  {
   "cell_type": "code",
   "execution_count": 5,
   "id": "2b6910ce",
   "metadata": {},
   "outputs": [
    {
     "data": {
      "text/html": [
       "<div>\n",
       "<style scoped>\n",
       "    .dataframe tbody tr th:only-of-type {\n",
       "        vertical-align: middle;\n",
       "    }\n",
       "\n",
       "    .dataframe tbody tr th {\n",
       "        vertical-align: top;\n",
       "    }\n",
       "\n",
       "    .dataframe thead th {\n",
       "        text-align: right;\n",
       "    }\n",
       "</style>\n",
       "<table border=\"1\" class=\"dataframe\">\n",
       "  <thead>\n",
       "    <tr style=\"text-align: right;\">\n",
       "      <th></th>\n",
       "      <th>Number of O-rings at risk on a given flight</th>\n",
       "      <th>Number experiencing thermal distress</th>\n",
       "      <th>Launch temperature (degrees F)</th>\n",
       "      <th>Leak-check pressure (psi)</th>\n",
       "      <th>Temporal order of flight</th>\n",
       "    </tr>\n",
       "  </thead>\n",
       "  <tbody>\n",
       "    <tr>\n",
       "      <th>0</th>\n",
       "      <td>6</td>\n",
       "      <td>1</td>\n",
       "      <td>70</td>\n",
       "      <td>50</td>\n",
       "      <td>2</td>\n",
       "    </tr>\n",
       "    <tr>\n",
       "      <th>1</th>\n",
       "      <td>6</td>\n",
       "      <td>0</td>\n",
       "      <td>69</td>\n",
       "      <td>50</td>\n",
       "      <td>3</td>\n",
       "    </tr>\n",
       "    <tr>\n",
       "      <th>2</th>\n",
       "      <td>6</td>\n",
       "      <td>0</td>\n",
       "      <td>68</td>\n",
       "      <td>50</td>\n",
       "      <td>4</td>\n",
       "    </tr>\n",
       "    <tr>\n",
       "      <th>3</th>\n",
       "      <td>6</td>\n",
       "      <td>0</td>\n",
       "      <td>67</td>\n",
       "      <td>50</td>\n",
       "      <td>5</td>\n",
       "    </tr>\n",
       "    <tr>\n",
       "      <th>4</th>\n",
       "      <td>6</td>\n",
       "      <td>0</td>\n",
       "      <td>72</td>\n",
       "      <td>50</td>\n",
       "      <td>6</td>\n",
       "    </tr>\n",
       "    <tr>\n",
       "      <th>5</th>\n",
       "      <td>6</td>\n",
       "      <td>0</td>\n",
       "      <td>73</td>\n",
       "      <td>100</td>\n",
       "      <td>7</td>\n",
       "    </tr>\n",
       "    <tr>\n",
       "      <th>6</th>\n",
       "      <td>6</td>\n",
       "      <td>0</td>\n",
       "      <td>70</td>\n",
       "      <td>100</td>\n",
       "      <td>8</td>\n",
       "    </tr>\n",
       "    <tr>\n",
       "      <th>7</th>\n",
       "      <td>6</td>\n",
       "      <td>1</td>\n",
       "      <td>57</td>\n",
       "      <td>200</td>\n",
       "      <td>9</td>\n",
       "    </tr>\n",
       "    <tr>\n",
       "      <th>8</th>\n",
       "      <td>6</td>\n",
       "      <td>1</td>\n",
       "      <td>63</td>\n",
       "      <td>200</td>\n",
       "      <td>10</td>\n",
       "    </tr>\n",
       "    <tr>\n",
       "      <th>9</th>\n",
       "      <td>6</td>\n",
       "      <td>1</td>\n",
       "      <td>70</td>\n",
       "      <td>200</td>\n",
       "      <td>11</td>\n",
       "    </tr>\n",
       "    <tr>\n",
       "      <th>10</th>\n",
       "      <td>6</td>\n",
       "      <td>0</td>\n",
       "      <td>78</td>\n",
       "      <td>200</td>\n",
       "      <td>12</td>\n",
       "    </tr>\n",
       "    <tr>\n",
       "      <th>11</th>\n",
       "      <td>6</td>\n",
       "      <td>0</td>\n",
       "      <td>67</td>\n",
       "      <td>200</td>\n",
       "      <td>13</td>\n",
       "    </tr>\n",
       "    <tr>\n",
       "      <th>12</th>\n",
       "      <td>6</td>\n",
       "      <td>2</td>\n",
       "      <td>53</td>\n",
       "      <td>200</td>\n",
       "      <td>14</td>\n",
       "    </tr>\n",
       "    <tr>\n",
       "      <th>13</th>\n",
       "      <td>6</td>\n",
       "      <td>0</td>\n",
       "      <td>67</td>\n",
       "      <td>200</td>\n",
       "      <td>15</td>\n",
       "    </tr>\n",
       "    <tr>\n",
       "      <th>14</th>\n",
       "      <td>6</td>\n",
       "      <td>0</td>\n",
       "      <td>75</td>\n",
       "      <td>200</td>\n",
       "      <td>16</td>\n",
       "    </tr>\n",
       "    <tr>\n",
       "      <th>15</th>\n",
       "      <td>6</td>\n",
       "      <td>0</td>\n",
       "      <td>70</td>\n",
       "      <td>200</td>\n",
       "      <td>17</td>\n",
       "    </tr>\n",
       "    <tr>\n",
       "      <th>16</th>\n",
       "      <td>6</td>\n",
       "      <td>0</td>\n",
       "      <td>81</td>\n",
       "      <td>200</td>\n",
       "      <td>18</td>\n",
       "    </tr>\n",
       "    <tr>\n",
       "      <th>17</th>\n",
       "      <td>6</td>\n",
       "      <td>0</td>\n",
       "      <td>76</td>\n",
       "      <td>200</td>\n",
       "      <td>19</td>\n",
       "    </tr>\n",
       "    <tr>\n",
       "      <th>18</th>\n",
       "      <td>6</td>\n",
       "      <td>0</td>\n",
       "      <td>79</td>\n",
       "      <td>200</td>\n",
       "      <td>20</td>\n",
       "    </tr>\n",
       "    <tr>\n",
       "      <th>19</th>\n",
       "      <td>6</td>\n",
       "      <td>2</td>\n",
       "      <td>75</td>\n",
       "      <td>200</td>\n",
       "      <td>21</td>\n",
       "    </tr>\n",
       "    <tr>\n",
       "      <th>20</th>\n",
       "      <td>6</td>\n",
       "      <td>0</td>\n",
       "      <td>76</td>\n",
       "      <td>200</td>\n",
       "      <td>22</td>\n",
       "    </tr>\n",
       "    <tr>\n",
       "      <th>21</th>\n",
       "      <td>6</td>\n",
       "      <td>1</td>\n",
       "      <td>58</td>\n",
       "      <td>200</td>\n",
       "      <td>23</td>\n",
       "    </tr>\n",
       "  </tbody>\n",
       "</table>\n",
       "</div>"
      ],
      "text/plain": [
       "    Number of O-rings at risk on a given flight  \\\n",
       "0                                             6   \n",
       "1                                             6   \n",
       "2                                             6   \n",
       "3                                             6   \n",
       "4                                             6   \n",
       "5                                             6   \n",
       "6                                             6   \n",
       "7                                             6   \n",
       "8                                             6   \n",
       "9                                             6   \n",
       "10                                            6   \n",
       "11                                            6   \n",
       "12                                            6   \n",
       "13                                            6   \n",
       "14                                            6   \n",
       "15                                            6   \n",
       "16                                            6   \n",
       "17                                            6   \n",
       "18                                            6   \n",
       "19                                            6   \n",
       "20                                            6   \n",
       "21                                            6   \n",
       "\n",
       "    Number experiencing thermal distress  Launch temperature (degrees F)  \\\n",
       "0                                      1                              70   \n",
       "1                                      0                              69   \n",
       "2                                      0                              68   \n",
       "3                                      0                              67   \n",
       "4                                      0                              72   \n",
       "5                                      0                              73   \n",
       "6                                      0                              70   \n",
       "7                                      1                              57   \n",
       "8                                      1                              63   \n",
       "9                                      1                              70   \n",
       "10                                     0                              78   \n",
       "11                                     0                              67   \n",
       "12                                     2                              53   \n",
       "13                                     0                              67   \n",
       "14                                     0                              75   \n",
       "15                                     0                              70   \n",
       "16                                     0                              81   \n",
       "17                                     0                              76   \n",
       "18                                     0                              79   \n",
       "19                                     2                              75   \n",
       "20                                     0                              76   \n",
       "21                                     1                              58   \n",
       "\n",
       "    Leak-check pressure (psi)  Temporal order of flight  \n",
       "0                          50                         2  \n",
       "1                          50                         3  \n",
       "2                          50                         4  \n",
       "3                          50                         5  \n",
       "4                          50                         6  \n",
       "5                         100                         7  \n",
       "6                         100                         8  \n",
       "7                         200                         9  \n",
       "8                         200                        10  \n",
       "9                         200                        11  \n",
       "10                        200                        12  \n",
       "11                        200                        13  \n",
       "12                        200                        14  \n",
       "13                        200                        15  \n",
       "14                        200                        16  \n",
       "15                        200                        17  \n",
       "16                        200                        18  \n",
       "17                        200                        19  \n",
       "18                        200                        20  \n",
       "19                        200                        21  \n",
       "20                        200                        22  \n",
       "21                        200                        23  "
      ]
     },
     "execution_count": 5,
     "metadata": {},
     "output_type": "execute_result"
    }
   ],
   "source": [
    "df = pd.DataFrame(data=my_data)\n",
    "df"
   ]
  },
  {
   "cell_type": "code",
   "execution_count": 6,
   "id": "269fc82d",
   "metadata": {},
   "outputs": [
    {
     "data": {
      "text/plain": [
       "array([[  6.,   1.,  70.,  50.,   2.],\n",
       "       [  6.,   0.,  69.,  50.,   3.],\n",
       "       [  6.,   0.,  68.,  50.,   4.],\n",
       "       [  6.,   0.,  67.,  50.,   5.],\n",
       "       [  6.,   0.,  72.,  50.,   6.],\n",
       "       [  6.,   0.,  73., 100.,   7.],\n",
       "       [  6.,   0.,  70., 100.,   8.],\n",
       "       [  6.,   1.,  57., 200.,   9.],\n",
       "       [  6.,   1.,  63., 200.,  10.],\n",
       "       [  6.,   1.,  70., 200.,  11.],\n",
       "       [  6.,   0.,  78., 200.,  12.],\n",
       "       [  6.,   0.,  67., 200.,  13.],\n",
       "       [  6.,   2.,  53., 200.,  14.],\n",
       "       [  6.,   0.,  67., 200.,  15.],\n",
       "       [  6.,   0.,  75., 200.,  16.],\n",
       "       [  6.,   0.,  70., 200.,  17.],\n",
       "       [  6.,   0.,  81., 200.,  18.],\n",
       "       [  6.,   0.,  76., 200.,  19.],\n",
       "       [  6.,   0.,  79., 200.,  20.],\n",
       "       [  6.,   2.,  75., 200.,  21.],\n",
       "       [  6.,   0.,  76., 200.,  22.],\n",
       "       [  6.,   1.,  58., 200.,  23.]])"
      ]
     },
     "execution_count": 6,
     "metadata": {},
     "output_type": "execute_result"
    }
   ],
   "source": [
    "# Completar valores nulos - en este caso el paso no es necesario dado la ausencia de valores NaN\n",
    "imputer_ = SimpleImputer(missing_values=np.nan, strategy='mean')\n",
    "my_imputed_data = imputer_.fit_transform(my_data)\n",
    "my_imputed_data"
   ]
  },
  {
   "cell_type": "code",
   "execution_count": 7,
   "id": "003ca68d",
   "metadata": {},
   "outputs": [
    {
     "data": {
      "text/plain": [
       "array([[ 0.        ,  0.90795938,  0.03888242, -1.65653234, -1.65503185],\n",
       "       [ 0.        , -0.62858727, -0.10368646, -1.65653234, -1.49740977],\n",
       "       [ 0.        , -0.62858727, -0.24625534, -1.65653234, -1.33978769],\n",
       "       [ 0.        , -0.62858727, -0.38882422, -1.65653234, -1.18216561],\n",
       "       [ 0.        , -0.62858727,  0.32402019, -1.65653234, -1.02454353],\n",
       "       [ 0.        , -0.62858727,  0.46658907, -0.88113422, -0.86692145],\n",
       "       [ 0.        , -0.62858727,  0.03888242, -0.88113422, -0.70929937],\n",
       "       [ 0.        ,  0.90795938, -1.81451304,  0.66966201, -0.55167728],\n",
       "       [ 0.        ,  0.90795938, -0.95909975,  0.66966201, -0.3940552 ],\n",
       "       [ 0.        ,  0.90795938,  0.03888242,  0.66966201, -0.23643312],\n",
       "       [ 0.        , -0.62858727,  1.17943348,  0.66966201, -0.07881104],\n",
       "       [ 0.        , -0.62858727, -0.38882422,  0.66966201,  0.07881104],\n",
       "       [ 0.        ,  2.44450604, -2.38478857,  0.66966201,  0.23643312],\n",
       "       [ 0.        , -0.62858727, -0.38882422,  0.66966201,  0.3940552 ],\n",
       "       [ 0.        , -0.62858727,  0.75172683,  0.66966201,  0.55167728],\n",
       "       [ 0.        , -0.62858727,  0.03888242,  0.66966201,  0.70929937],\n",
       "       [ 0.        , -0.62858727,  1.60714012,  0.66966201,  0.86692145],\n",
       "       [ 0.        , -0.62858727,  0.89429571,  0.66966201,  1.02454353],\n",
       "       [ 0.        , -0.62858727,  1.32200236,  0.66966201,  1.18216561],\n",
       "       [ 0.        ,  2.44450604,  0.75172683,  0.66966201,  1.33978769],\n",
       "       [ 0.        , -0.62858727,  0.89429571,  0.66966201,  1.49740977],\n",
       "       [ 0.        ,  0.90795938, -1.67194416,  0.66966201,  1.65503185]])"
      ]
     },
     "execution_count": 7,
     "metadata": {},
     "output_type": "execute_result"
    }
   ],
   "source": [
    "# Escalar datos\n",
    "scaler = StandardScaler()\n",
    "my_data_scaled = scaler.fit_transform(my_imputed_data)\n",
    "my_data_scaled"
   ]
  },
  {
   "cell_type": "code",
   "execution_count": 8,
   "id": "c962d9df",
   "metadata": {},
   "outputs": [
    {
     "data": {
      "text/plain": [
       "array([[ 1.        ,  0.03888242, -1.65653234, -1.65503185],\n",
       "       [ 0.        , -0.10368646, -1.65653234, -1.49740977],\n",
       "       [ 0.        , -0.24625534, -1.65653234, -1.33978769],\n",
       "       [ 0.        , -0.38882422, -1.65653234, -1.18216561],\n",
       "       [ 0.        ,  0.32402019, -1.65653234, -1.02454353],\n",
       "       [ 0.        ,  0.46658907, -0.88113422, -0.86692145],\n",
       "       [ 0.        ,  0.03888242, -0.88113422, -0.70929937],\n",
       "       [ 1.        , -1.81451304,  0.66966201, -0.55167728],\n",
       "       [ 1.        , -0.95909975,  0.66966201, -0.3940552 ],\n",
       "       [ 1.        ,  0.03888242,  0.66966201, -0.23643312],\n",
       "       [ 0.        ,  1.17943348,  0.66966201, -0.07881104],\n",
       "       [ 0.        , -0.38882422,  0.66966201,  0.07881104],\n",
       "       [ 2.        , -2.38478857,  0.66966201,  0.23643312],\n",
       "       [ 0.        , -0.38882422,  0.66966201,  0.3940552 ],\n",
       "       [ 0.        ,  0.75172683,  0.66966201,  0.55167728],\n",
       "       [ 0.        ,  0.03888242,  0.66966201,  0.70929937],\n",
       "       [ 0.        ,  1.60714012,  0.66966201,  0.86692145],\n",
       "       [ 0.        ,  0.89429571,  0.66966201,  1.02454353],\n",
       "       [ 0.        ,  1.32200236,  0.66966201,  1.18216561],\n",
       "       [ 2.        ,  0.75172683,  0.66966201,  1.33978769],\n",
       "       [ 0.        ,  0.89429571,  0.66966201,  1.49740977],\n",
       "       [ 1.        , -1.67194416,  0.66966201,  1.65503185]])"
      ]
     },
     "execution_count": 8,
     "metadata": {},
     "output_type": "execute_result"
    }
   ],
   "source": [
    "# optimizar tabla a mano - Eliminación de columna de cantidad de orings (y de N° de vuelo opcional)\n",
    "#my_data2=my_data.drop(['Number of O-rings at risk on a given flight','Temporal order of flight'], axis=1)\n",
    "my_data2=my_data.drop(['Number of O-rings at risk on a given flight'], axis=1)\n",
    "# Completado de NaNs\n",
    "imputer_2 = SimpleImputer(missing_values=np.nan, strategy='mean')\n",
    "my_imputed_data2 = imputer_.fit_transform(my_data2)\n",
    "my_imputed_data2\n",
    "# Escalado de los datos\n",
    "scaler2 = StandardScaler()\n",
    "my_data_scaled2 = scaler2.fit_transform(my_imputed_data2)\n",
    "# Recuperación del dato de los orings dañados\n",
    "my_data_scaled2[:,0]=my_imputed_data2[:,0]\n",
    "my_data_scaled2\n"
   ]
  },
  {
   "cell_type": "code",
   "execution_count": 9,
   "id": "111516e0",
   "metadata": {},
   "outputs": [
    {
     "name": "stdout",
     "output_type": "stream",
     "text": [
      "Cantidad de componentes necesarios para explicar el 90% de la varianza: 3\n"
     ]
    },
    {
     "data": {
      "text/plain": [
       "array([[ 1.93919146,  1.09201914,  1.16198701],\n",
       "       [ 2.31211733,  0.18878977, -0.02975072],\n",
       "       [ 2.20390772,  0.25381937, -0.13037678],\n",
       "       [ 2.09569811,  0.31884897, -0.23100284],\n",
       "       [ 2.01419639, -0.24138634,  0.22950299],\n",
       "       [ 1.38463199, -0.44885195,  0.1206637 ],\n",
       "       [ 1.26751974, -0.17540071, -0.16700633],\n",
       "       [-0.435756  ,  1.98027054, -0.6892989 ],\n",
       "       [-0.5128064 ,  1.31582441, -0.13527109],\n",
       "       [-0.58540548,  0.54716746,  0.51227871],\n",
       "       [-0.17241777, -1.29395928,  0.16223882],\n",
       "       [-0.32514054, -0.18682149, -0.87360707],\n",
       "       [-1.45348824,  3.16946669, -0.00779557],\n",
       "       [-0.53265714, -0.26518393, -0.88781523],\n",
       "       [-0.6008049 , -1.1380517 , -0.14674345],\n",
       "       [-0.72681978, -0.65617883, -0.62145744],\n",
       "       [-0.7816136 , -1.84167905,  0.40018028],\n",
       "       [-0.90762848, -1.35980618, -0.07453371],\n",
       "       [-0.99803283, -1.71161985,  0.19892816],\n",
       "       [-2.08186736,  0.60256015,  1.99995948],\n",
       "       [-1.21890337, -1.47734983, -0.09584595],\n",
       "       [-1.88392085,  1.32752266, -0.69523405]])"
      ]
     },
     "execution_count": 9,
     "metadata": {},
     "output_type": "execute_result"
    }
   ],
   "source": [
    "# Reducción de dimensionalidad por PCA - no utilizado en la siguiente etapa\n",
    "pca = PCA(n_components=0.9).fit(my_data_scaled)\n",
    "X_pca = pca.transform(my_data_scaled)\n",
    "print(\"Cantidad de componentes necesarios para explicar el 90% de la varianza:\", X_pca.shape[1])\n",
    "X_pca"
   ]
  },
  {
   "cell_type": "code",
   "execution_count": 29,
   "id": "cef297de",
   "metadata": {},
   "outputs": [
    {
     "name": "stderr",
     "output_type": "stream",
     "text": [
      "C:\\Users\\Facu\\AppData\\Local\\Temp\\ipykernel_9340\\1413522311.py:9: MatplotlibDeprecationWarning: The get_cmap function was deprecated in Matplotlib 3.7 and will be removed two minor releases later. Use ``matplotlib.colormaps[name]`` or ``matplotlib.colormaps.get_cmap(obj)`` instead.\n",
      "  plt.scatter(X_pca[:, 0], X_pca[:, 1], c=cluster_labels_, edgecolor='none', alpha=0.7, s=40, cmap=plt.cm.get_cmap('nipy_spectral', 3))\n"
     ]
    },
    {
     "data": {
      "text/plain": [
       "Text(0.5, 1.0, 'PCA projection 2D')"
      ]
     },
     "execution_count": 29,
     "metadata": {},
     "output_type": "execute_result"
    },
    {
     "data": {
      "image/png": "[encoded data removed]",
      "text/plain": [
       "<Figure size 1200x1000 with 2 Axes>"
      ]
     },
     "metadata": {},
     "output_type": "display_data"
    }
   ],
   "source": [
    "# PCA - no utilizado en la siguiente etapa\n",
    "from sklearn.cluster import KMeans\n",
    "from matplotlib import pyplot as plt\n",
    "\n",
    "kmeans = KMeans(n_clusters=3, n_init=50)\n",
    "kmeans.fit(X_pca)\n",
    "cluster_labels_ = kmeans.labels_\n",
    "\n",
    "plt.figure(figsize=(12,10))\n",
    "plt.scatter(X_pca[:, 0], X_pca[:, 1], c=cluster_labels_, edgecolor='none', alpha=0.7, s=40, cmap=plt.cm.get_cmap('nipy_spectral', 3))\n",
    "plt.rcParams['axes.grid'] = False\n",
    "plt.colorbar()\n",
    "plt.title('PCA projection 2D')"
   ]
  },
  {
   "cell_type": "code",
   "execution_count": 9,
   "id": "82068b77",
   "metadata": {},
   "outputs": [
    {
     "data": {
      "text/plain": [
       "array([[ 0.03888242, -1.65653234, -1.65503185],\n",
       "       [-0.10368646, -1.65653234, -1.49740977],\n",
       "       [-0.24625534, -1.65653234, -1.33978769],\n",
       "       [-0.38882422, -1.65653234, -1.18216561],\n",
       "       [ 0.32402019, -1.65653234, -1.02454353],\n",
       "       [ 0.46658907, -0.88113422, -0.86692145],\n",
       "       [ 0.03888242, -0.88113422, -0.70929937],\n",
       "       [-1.81451304,  0.66966201, -0.55167728],\n",
       "       [-0.95909975,  0.66966201, -0.3940552 ],\n",
       "       [ 0.03888242,  0.66966201, -0.23643312],\n",
       "       [ 1.17943348,  0.66966201, -0.07881104],\n",
       "       [-0.38882422,  0.66966201,  0.07881104],\n",
       "       [-2.38478857,  0.66966201,  0.23643312],\n",
       "       [-0.38882422,  0.66966201,  0.3940552 ],\n",
       "       [ 0.75172683,  0.66966201,  0.55167728],\n",
       "       [ 0.03888242,  0.66966201,  0.70929937],\n",
       "       [ 1.60714012,  0.66966201,  0.86692145],\n",
       "       [ 0.89429571,  0.66966201,  1.02454353],\n",
       "       [ 1.32200236,  0.66966201,  1.18216561],\n",
       "       [ 0.75172683,  0.66966201,  1.33978769],\n",
       "       [ 0.89429571,  0.66966201,  1.49740977],\n",
       "       [-1.67194416,  0.66966201,  1.65503185]])"
      ]
     },
     "execution_count": 9,
     "metadata": {},
     "output_type": "execute_result"
    }
   ],
   "source": [
    "# Separación de variables y targets\n",
    "y = my_data_scaled2[:,0]\n",
    "X = my_data_scaled2[:,1:]\n",
    "X\n",
    "\n",
    "# No separo en train, validation y test dado la cantidad reducida de valores,\n",
    "# principalmente ya que solo existen dos casos con 2 orings dañados\n",
    "# Contrastaré todos los targets con la devolución de los modelos"
   ]
  },
  {
   "cell_type": "markdown",
   "id": "13e49832",
   "metadata": {},
   "source": [
    "# Modelos y evaluación\n",
    "Probar diferentes modelos para predecir la variable objetivo. Calcular las métricas que considere relevantes. Comentar los resultados. "
   ]
  },
  {
   "cell_type": "code",
   "execution_count": 10,
   "id": "529db73e",
   "metadata": {},
   "outputs": [],
   "source": [
    "from sklearn.linear_model import ElasticNet, ElasticNetCV, LogisticRegression, LogisticRegressionCV, SGDClassifier, SGDRegressor"
   ]
  },
  {
   "cell_type": "code",
   "execution_count": 11,
   "id": "02f64dad",
   "metadata": {},
   "outputs": [],
   "source": [
    "from matplotlib import pyplot as plt\n"
   ]
  },
  {
   "cell_type": "code",
   "execution_count": 30,
   "id": "bd7c18e5",
   "metadata": {},
   "outputs": [
    {
     "name": "stdout",
     "output_type": "stream",
     "text": [
      "[0. 0. 0. 0. 0. 0. 0. 1. 1. 0. 0. 0. 1. 0. 0. 0. 0. 0. 0. 0. 0. 1.] \n",
      " [1. 0. 0. 0. 0. 0. 0. 1. 1. 1. 0. 0. 2. 0. 0. 0. 0. 0. 0. 2. 0. 1.]\n",
      "ERR =  0.18181818181818182\n"
     ]
    }
   ],
   "source": [
    "# Aproximación con OneVsRestClassifier\n",
    "from sklearn.multiclass import OneVsRestClassifier\n",
    "from sklearn.svm import SVC\n",
    "\n",
    "clasificador = OneVsRestClassifier(SVC())\n",
    "clasificador.fit(X, y)\n",
    "\n",
    "y_hat = np.zeros(y.shape)\n",
    "for i in range(0,y_hat.shape[0],1):\n",
    "    y_hat[i] = clasificador.predict([X[i,:]])\n",
    "print(y_hat,'\\n',y)\n",
    "\n",
    "# Cálculo de ERR\n",
    "ERR = 0\n",
    "for i in range(0,y_hat.shape[0],1):\n",
    "    if(y_hat[i]!=y[i]):\n",
    "        ERR=ERR+1\n",
    "ERR = ERR/y_hat.shape[0]\n",
    "print('ERR = ',ERR)"
   ]
  },
  {
   "cell_type": "code",
   "execution_count": 37,
   "metadata": {},
   "outputs": [
    {
     "name": "stdout",
     "output_type": "stream",
     "text": [
      "[0. 0. 0. 0. 0. 0. 0. 1. 1. 0. 0. 0. 2. 0. 0. 0. 0. 0. 0. 0. 0. 2.] \n",
      " [1. 0. 0. 0. 0. 0. 0. 1. 1. 1. 0. 0. 2. 0. 0. 0. 0. 0. 0. 2. 0. 1.]\n",
      "ERR =  0.18181818181818182\n"
     ]
    }
   ],
   "source": [
    "# Aproximación con SGDClassifier\n",
    "from sklearn.inspection import DecisionBoundaryDisplay\n",
    "\n",
    "clasificador = SGDClassifier(alpha=0.001, max_iter=100)\n",
    "clasificador.fit(X, y)\n",
    "\n",
    "y_hat = np.zeros(y.shape)\n",
    "for i in range(0,y_hat.shape[0],1):\n",
    "    y_hat[i] = clasificador.predict([X[i,:]])\n",
    "print(y_hat,'\\n',y)\n",
    "\n",
    "# Cálculo de ERR\n",
    "ERR = 0\n",
    "for i in range(0,y_hat.shape[0],1):\n",
    "    if(y_hat[i]!=y[i]):\n",
    "        ERR=ERR+1\n",
    "ERR = ERR/y_hat.shape[0]\n",
    "print('ERR = ',ERR)"
   ]
  },
  {
   "cell_type": "code",
   "execution_count": 34,
   "metadata": {},
   "outputs": [
    {
     "name": "stdout",
     "output_type": "stream",
     "text": [
      "[0. 0. 0. 0. 0. 0. 0. 1. 1. 0. 0. 1. 1. 1. 0. 0. 0. 0. 0. 0. 0. 1.] \n",
      " [1. 0. 0. 0. 0. 0. 0. 1. 1. 1. 0. 0. 2. 0. 0. 0. 0. 0. 0. 2. 0. 1.]\n",
      "ERR =  0.2727272727272727\n"
     ]
    }
   ],
   "source": [
    "# Aproximación con SGDRegressor\n",
    "from sklearn.inspection import DecisionBoundaryDisplay\n",
    "\n",
    "clasificador = SGDRegressor(alpha=0.0001, max_iter=1000)\n",
    "clasificador.fit(X, y)\n",
    "\n",
    "y_hat = np.zeros(y.shape)\n",
    "for i in range(0,y_hat.shape[0],1):\n",
    "    y_hat[i] = int(clasificador.predict([X[i,:]]) + 0.5)\n",
    "print(y_hat,'\\n',y)\n",
    "\n",
    "# Cálculo de ERR\n",
    "ERR = 0\n",
    "for i in range(0,y_hat.shape[0],1):\n",
    "    if(y_hat[i]!=y[i]):\n",
    "        ERR=ERR+1\n",
    "ERR = ERR/y_hat.shape[0]\n",
    "print('ERR = ',ERR)"
   ]
  },
  {
   "attachments": {},
   "cell_type": "markdown",
   "id": "897dc37a",
   "metadata": {},
   "source": [
    "## Conclusiones\n",
    "\n",
    "Se utilizó la métrica ERR para comparar los resultados de la estimación.</br>\n",
    "Dado pruebas realizadas, ejecutando los bloques de código en diversas ocasiones, se apreció que el método de OneVsRestClassifier tiende a presentar un ERR levemente mejor que los métodos de gradiente descendente estocásticos.</br>\n",
    "\n",
    "Los datos de la columna 'Temporal order of flight' no son relevantes en la estimación de orings dañados. Esto se concluyo a raíz de realizar las pruebas incluyendo y no esta columna y no se apreciaron cambios en los resultados.</br>\n",
    "De esto se concluye que no parece haber una mejora ni degradación de la calidad de los elementos conforme se realizan nuevos lanzamientos. Por lo que a priori no se visualizan mejoras en la técnica o tecnología de los oring que esté relacionada directamente con la cantidad de lanzamientos realizados.\n",
    "\n",
    "Los casos de falla de 2 orings son difíciles de predecir, principalmente porque en el dataset solo existen dos casos de los mismos. Pero se aprecia que los métodos de gradiente descendente estocásticos tienden a tener mayor facilidad para la detección de los casos de 2 orings que el estimador OneVsRestClassifier.\n",
    "\n",
    "Considero que el dataset es reducido, y que un dataset con mayor registros de lanzamientos puede llevar a un mejor modelado de los clasificadores. Esto no siempre es posible ya que el evento del lanzamiento de un cohete no es lo suficientemente habitual como para generar extensas bases de datos. Pero los clasificadores pueden mejorar conforme se realizan futuros lanzamientos."
   ]
  }
 ],
 "metadata": {
  "kernelspec": {
   "display_name": "Python 3.10.7 ('.venv': venv)",
   "language": "python",
   "name": "python3"
  },
  "language_info": {
   "codemirror_mode": {
    "name": "ipython",
    "version": 3
   },
   "file_extension": ".py",
   "mimetype": "text/x-python",
   "name": "python",
   "nbconvert_exporter": "python",
   "pygments_lexer": "ipython3",
   "version": "3.9.6"
  },
  "vscode": {
   "interpreter": {
    "hash": "23cb2388443d556543181094e3ae896af451ee7d366981f58b81df73afb487db"
   }
  }
 },
 "nbformat": 4,
 "nbformat_minor": 5
}
